{
  "cells": [
    {
      "cell_type": "markdown",
      "source": [],
      "metadata": {
        "id": "6HbenaX-eIPT"
      }
    },
    {
      "cell_type": "code",
      "source": [
        "# 📊 Assignment 6: Logistic Regression vs Random Forest\n",
        "# (using built-in Iris dataset)\n",
        "\n",
        "import pandas as pd\n",
        "from sklearn.datasets import load_iris\n",
        "from sklearn.model_selection import train_test_split\n",
        "from sklearn.linear_model import LogisticRegression\n",
        "from sklearn.ensemble import RandomForestClassifier\n",
        "from sklearn.metrics import accuracy_score\n",
        "\n",
        "# --- Step 1: Load built-in Iris dataset ---\n",
        "iris = load_iris()\n",
        "df = pd.DataFrame(iris.data, columns=iris.feature_names)\n",
        "df['target'] = iris.target\n",
        "\n",
        "print(\"Dataset Preview:\")\n",
        "df.head()\n",
        "\n",
        "# --- Step 2: Features and Target ---\n",
        "X = df.drop('target', axis=1)\n",
        "y = df['target']\n",
        "\n",
        "# --- Step 3: Train-test split ---\n",
        "X_train, X_test, y_train, y_test = train_test_split(\n",
        "    X, y, test_size=0.2, random_state=42\n",
        ")\n",
        "\n",
        "# --- Step 4: Logistic Regression ---\n",
        "log_model = LogisticRegression(max_iter=1000)\n",
        "log_model.fit(X_train, y_train)\n",
        "log_pred = log_model.predict(X_test)\n",
        "\n",
        "log_acc = accuracy_score(y_test, log_pred)\n",
        "print(\"\\nLogistic Regression Accuracy:\", log_acc)\n",
        "\n",
        "# --- Step 5: Random Forest ---\n",
        "rf_model = RandomForestClassifier(random_state=42)\n",
        "rf_model.fit(X_train, y_train)\n",
        "rf_pred = rf_model.predict(X_test)\n",
        "\n",
        "rf_acc = accuracy_score(y_test, rf_pred)\n",
        "print(\"Random Forest Accuracy:\", rf_acc)\n",
        "\n",
        "# --- Step 6: Comparison ---\n",
        "print(\"\\n📈 Model Comparison:\")\n",
        "print(f\"Logistic Regression Accuracy: {log_acc:.2f}\")\n",
        "print(f\"Random Forest Accuracy: {rf_acc:.2f}\")\n",
        "\n",
        "if rf_acc > log_acc:\n",
        "    print(\"✅ Random Forest performs better.\")\n",
        "else:\n",
        "    print(\"✅ Logistic Regression performs better.\")\n"
      ],
      "metadata": {
        "id": "M471joaLiMk4",
        "outputId": "4660e0cc-3a43-46de-d57a-8409549b102e",
        "colab": {
          "base_uri": "https://localhost:8080/"
        }
      },
      "execution_count": 10,
      "outputs": [
        {
          "output_type": "stream",
          "name": "stdout",
          "text": [
            "Dataset Preview:\n",
            "\n",
            "Logistic Regression Accuracy: 1.0\n",
            "Random Forest Accuracy: 1.0\n",
            "\n",
            "📈 Model Comparison:\n",
            "Logistic Regression Accuracy: 1.00\n",
            "Random Forest Accuracy: 1.00\n",
            "✅ Logistic Regression performs better.\n"
          ]
        }
      ]
    }
  ],
  "metadata": {
    "colab": {
      "name": "Welcome to Colab",
      "toc_visible": true,
      "provenance": []
    },
    "kernelspec": {
      "display_name": "Python 3",
      "name": "python3"
    }
  },
  "nbformat": 4,
  "nbformat_minor": 0
}